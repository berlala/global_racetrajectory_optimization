{
 "cells": [
  {
   "cell_type": "code",
   "execution_count": 1,
   "metadata": {},
   "outputs": [],
   "source": [
    "import numpy as np\n",
    "import csv\n",
    "import math \n",
    "import matplotlib.pyplot as plt\n",
    "import folium\n",
    "import webbrowser"
   ]
  },
  {
   "cell_type": "code",
   "execution_count": 2,
   "metadata": {},
   "outputs": [],
   "source": [
    "def wgs84_to_webMercator(lng,lat):\n",
    "    # Convert WGS84 to WebMercator in Meters\n",
    "    x = lng*20037508.342789 / 180.0\n",
    "    y = math.log(math.tan((90+lat)*math.pi/360))/(math.pi / 180.0) # 注意括号\n",
    "    y = y *20037508.342789 / 180.0\n",
    "    return x,y"
   ]
  },
  {
   "cell_type": "code",
   "execution_count": 3,
   "metadata": {},
   "outputs": [],
   "source": [
    "with open('FridayNightTrack.csv', mode='r',encoding='utf-8',newline='') as f:\n",
    "    reader = csv.reader(f)\n",
    "    t = []\n",
    "    Lat = []\n",
    "    Long = []\n",
    "    Alt  = []\n",
    "    Dis = []\n",
    "    Spd = []\n",
    "    Heading = []\n",
    "    x_m = []\n",
    "    y_m = []\n",
    "    coordinate=[]\n",
    "    index = 0\n",
    "    for row in reader:\n",
    "        if index > 0:\n",
    "            t.append(row[2])\n",
    "            Lat.append(row[3]) #纬度坐标\n",
    "            Long.append(row[4]) #经度坐标\n",
    "            coordinate.append([float(row[3]),float(row[4])])\n",
    "            Alt.append(row[6])\n",
    "            Dis.append(row[8])\n",
    "            Spd.append(row[9])\n",
    "            Heading.append(row[12])\n",
    "            x,y = wgs84_to_webMercator(float(row[4]), float(row[3]))\n",
    "            x_m.append(x)\n",
    "            y_m.append(y)\n",
    "        index = index+1\n",
    "\n",
    "data = np.vstack((t,Lat,Long,Alt,Dis))\n",
    "\n",
    "x_m = np.asarray(x_m) - x_m[0]\n",
    "y_m = np.asarray(y_m) - y_m[0]\n",
    "left_m = 4*np.ones(len(x_m))\n",
    "right_m = 4*np.ones(len(x_m))\n",
    "\n",
    "data_2 = np.vstack((x_m,y_m,left_m,right_m))\n",
    "result = np.transpose(data_2)\n",
    "\n",
    "#np.savetxt('fridaytrack.csv',result,delimiter=',')"
   ]
  },
  {
   "cell_type": "code",
   "execution_count": 4,
   "metadata": {},
   "outputs": [],
   "source": [
    "back_map = folium.Map([39.908156,116.397743],zoom_start=20)  # 中心点坐标，天安门，腾讯地图坐标拾取器获取\n",
    "folium.PolyLine(coordinate, weight=2,color='orange',opacity=0.8).add_to(back_map)\n",
    "back_map #显示地图，注意mac下需要用safari\n",
    "back_map.save('map.html') #保存地图\n",
    "#webbrowser.open('map.ht`ml')"
   ]
  },
  {
   "cell_type": "code",
   "execution_count": null,
   "metadata": {},
   "outputs": [],
   "source": []
  }
 ],
 "metadata": {
  "kernelspec": {
   "display_name": "Python 3",
   "language": "python",
   "name": "python3"
  },
  "language_info": {
   "codemirror_mode": {
    "name": "ipython",
    "version": 3
   },
   "file_extension": ".py",
   "mimetype": "text/x-python",
   "name": "python",
   "nbconvert_exporter": "python",
   "pygments_lexer": "ipython3",
   "version": "3.7.3"
  }
 },
 "nbformat": 4,
 "nbformat_minor": 2
}
